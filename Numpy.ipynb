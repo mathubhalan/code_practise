{
 "cells": [
  {
   "cell_type": "markdown",
   "metadata": {},
   "source": [
    "## Numpy \n",
    "This Note book will have references for all Numpy and related code practise"
   ]
  },
  {
   "cell_type": "code",
   "execution_count": 1,
   "metadata": {},
   "outputs": [],
   "source": [
    "#import statement\n",
    "import numpy as np"
   ]
  },
  {
   "cell_type": "markdown",
   "metadata": {},
   "source": [
    "#### 1-D Array###\n",
    "**Creating a 1-D Array**\n",
    "\n",
    "There are several ways to create ndarrays in NumPy. The two ways to create ndarrays:\n",
    "\n",
    "Using regular Python lists\n",
    "\n",
    "Using built-in NumPy functions\n",
    "\n",
    "In this section, we will create ndarrays by providing Python lists to the NumPy *np.array()* function. It is important to remember that np.array() is NOT a class, it is just a function that returns an ndarray"
   ]
  },
  {
   "cell_type": "code",
   "execution_count": 5,
   "metadata": {},
   "outputs": [
    {
     "name": "stdout",
     "output_type": "stream",
     "text": [
      "[1 2 3 4 5]\n"
     ]
    }
   ],
   "source": [
    "#Let's create a 1D array x\n",
    "x= np.array([1,2,3,4,5])\n",
    "print(x)\n",
    "\n"
   ]
  },
  {
   "cell_type": "markdown",
   "metadata": {},
   "source": [
    "**Rank:**\n",
    "\n",
    "1D arrays as rank 1 arrays. In general N-Dimensional arrays have rank N. \n",
    "Therefore, we refer to a 2D array as a rank 2 array. \n",
    "\n",
    "**Shape, Size and Datatype of Array:**\n",
    "\n",
    "The shape of an array is the size along each of its dimensions. \n",
    "For example, the shape of a rank 2 array will correspond to the *number of rows and columns* of the array. \n",
    "The shape attribute returns a tuple of N positive integers that specify the sizes of each dimension. \n",
    "In the example below we will see the details of 1-D array created and its shape, its type, and the data-type (dtype) of its elements."
   ]
  },
  {
   "cell_type": "code",
   "execution_count": 7,
   "metadata": {},
   "outputs": [
    {
     "name": "stdout",
     "output_type": "stream",
     "text": [
      "Shape of array:  (5,)\n",
      "Size of array:  5\n",
      "Data type of array:  int32\n"
     ]
    }
   ],
   "source": [
    "#print the shape of the array\n",
    "print (\"Shape of array: \", x.shape)\n",
    "\n",
    "#print the size of the array\n",
    "print (\"Size of array: \",x.size)\n",
    "\n",
    "#print the data type\n",
    "print(\"Data type of array: \",x.dtype)"
   ]
  },
  {
   "cell_type": "markdown",
   "metadata": {},
   "source": [
    "We can see that the shape attribute returns the tuple (5,) telling us that x is of rank 1 (i.e. x only has 1 dimension ) and it has 5 elements. \n",
    "The type() function tells us that x is indeed a NumPy ndarray. \n",
    "Finally, the .dtype attribute tells us that the elements of x are stored in memory as signed 64-bit integers. Another great advantage of NumPy is that it can handle more data-types than Python lists."
   ]
  },
  {
   "cell_type": "code",
   "execution_count": 9,
   "metadata": {},
   "outputs": [
    {
     "name": "stdout",
     "output_type": "stream",
     "text": [
      "\n",
      "['Apple' 'Google' 'Microsoft']\n",
      "\n",
      "Shape of array:  (3,)\n",
      "Size of array:  3\n",
      "Data type of array:  <U9\n"
     ]
    }
   ],
   "source": [
    "b=np.array([\"Apple\",\"Google\",\"Microsoft\"])\n",
    "\n",
    "print()\n",
    "print(b)\n",
    "print()\n",
    "\n",
    "#print the shape of the array\n",
    "print (\"Shape of array: \", b.shape)\n",
    "\n",
    "#print the size of the array\n",
    "print (\"Size of array: \",b.size)\n",
    "\n",
    "#print the data type\n",
    "print(\"Data type of array: \",b.dtype)"
   ]
  },
  {
   "cell_type": "markdown",
   "metadata": {},
   "source": [
    "dtype attribute tells us that the elements in b are stored in memory as Unicode strings of 5 characters."
   ]
  },
  {
   "cell_type": "markdown",
   "metadata": {},
   "source": [
    "#### 2-D Array ####\n",
    "\n",
    "**Creating a 2D array**\n",
    "2D array will have 2 dimension as row & columns"
   ]
  },
  {
   "cell_type": "code",
   "execution_count": 12,
   "metadata": {},
   "outputs": [
    {
     "name": "stdout",
     "output_type": "stream",
     "text": [
      "\n",
      "[[1 2 3]\n",
      " [4 5 6]\n",
      " [7 8 9]]\n",
      "\n",
      "Shape of array:  (3, 3)\n",
      "Size of array:  9\n",
      "Data type of array element:  int32\n",
      "Object type of array y: <class 'numpy.ndarray'>\n"
     ]
    }
   ],
   "source": [
    "#lets us create  2D array\n",
    "y = np.array([[1,2,3],[4,5,6],[7,8,9]])\n",
    "\n",
    "print()\n",
    "print(y)\n",
    "print()\n",
    "\n",
    "#print the shape of the array\n",
    "print (\"Shape of array: \", y.shape)\n",
    "\n",
    "#print the size of the array\n",
    "print (\"Size of array: \",y.size)\n",
    "\n",
    "#print the data type\n",
    "print(\"Data type of array element: \",y.dtype)\n",
    "\n",
    "#print the type of array\n",
    "print(\"Object type of array y:\",type(y))\n"
   ]
  },
  {
   "cell_type": "markdown",
   "metadata": {},
   "source": [
    "**Key notes**\n",
    "\n",
    "- Numpy will store elements based on the value, if integer it store as int if float stores as float\n",
    "- if we have both int and float in arrray, numpy will store the element as float. This is called **upcasting**"
   ]
  },
  {
   "cell_type": "code",
   "execution_count": 13,
   "metadata": {},
   "outputs": [
    {
     "name": "stdout",
     "output_type": "stream",
     "text": [
      "The elements in x are of type: int32\n",
      "The elements in y are of type: float64\n",
      "The elements in z are of type: float64\n"
     ]
    }
   ],
   "source": [
    "# We create a rank 1 ndarray that contains integers\n",
    "x = np.array([1,2,3])\n",
    "\n",
    "# We create a rank 1 ndarray that contains floats\n",
    "y = np.array([1.0,2.0,3.0])\n",
    "\n",
    "# We create a rank 1 ndarray that contains integers and floats\n",
    "z = np.array([1, 2.5, 4])\n",
    "\n",
    "# We print the dtype of each ndarray\n",
    "print('The elements in x are of type:', x.dtype)\n",
    "print('The elements in y are of type:', y.dtype)\n",
    "print('The elements in z are of type:', z.dtype)"
   ]
  },
  {
   "cell_type": "markdown",
   "metadata": {},
   "source": [
    "Even though NumPy automatically selects the dtype of the ndarray, NumPy also allows you to specify the particular dtype you want to assign to the elements of the ndarray. You can specify the dtype when you create the ndarray using the keyword dtype in the np.array() function. Let's see an example:"
   ]
  },
  {
   "cell_type": "code",
   "execution_count": 14,
   "metadata": {},
   "outputs": [
    {
     "name": "stdout",
     "output_type": "stream",
     "text": [
      "\n",
      "x =  [1 2 3 4 5]\n",
      "\n",
      "The elements in x are of type: int64\n"
     ]
    }
   ],
   "source": [
    "# We create a rank 1 ndarray of floats but set the dtype to int64\n",
    "x = np.array([1.5, 2.2, 3.7, 4.0, 5.9], dtype = np.int64)\n",
    "\n",
    "# We print x\n",
    "print()\n",
    "print('x = ', x)\n",
    "print()\n",
    "\n",
    "# We print the dtype x\n",
    "print('The elements in x are of type:', x.dtype)"
   ]
  },
  {
   "cell_type": "markdown",
   "metadata": {},
   "source": [
    "**Save & Load Array to/from file**"
   ]
  },
  {
   "cell_type": "code",
   "execution_count": 15,
   "metadata": {},
   "outputs": [
    {
     "name": "stdout",
     "output_type": "stream",
     "text": [
      "\n",
      "y =  [1 2 3 4 5]\n",
      "\n",
      "y is an object of type: <class 'numpy.ndarray'>\n",
      "The elements in y are of type: int32\n"
     ]
    }
   ],
   "source": [
    "# We create a rank 1 ndarray\n",
    "x = np.array([1, 2, 3, 4, 5])\n",
    "\n",
    "# We save x into the current directory as \n",
    "np.save('my_array', x)\n",
    "\n",
    "\n",
    "# We load the saved array from our current directory into variable y\n",
    "y = np.load('my_array.npy')\n",
    "\n",
    "# We print y\n",
    "print()\n",
    "print('y = ', y)\n",
    "print()\n",
    "\n",
    "# We print information about the ndarray we loaded\n",
    "print('y is an object of type:', type(y))\n",
    "print('The elements in y are of type:', y.dtype)"
   ]
  },
  {
   "cell_type": "markdown",
   "metadata": {},
   "source": [
    "#### Built-in-Functions ####"
   ]
  },
  {
   "cell_type": "markdown",
   "metadata": {},
   "source": [
    "- np.zero(shape) - create zeros with give shape\n",
    "- np.ones() - create ones with given shape, we can change the data type of elements by passing the dtype value\n",
    "- np.full(shape, constant value) - create an ndarray with a specified shape that is full of any number we want"
   ]
  },
  {
   "cell_type": "code",
   "execution_count": 7,
   "metadata": {},
   "outputs": [
    {
     "name": "stdout",
     "output_type": "stream",
     "text": [
      "\n",
      "X = \n",
      " [[0. 0. 0. 0.]\n",
      " [0. 0. 0. 0.]\n",
      " [0. 0. 0. 0.]]\n",
      "\n",
      "X has dimensions: (3, 4)\n",
      "X is an object of type: <class 'numpy.ndarray'>\n",
      "The elements in X are of type: float64\n",
      "\n",
      "Y = \n",
      " [[1 1 1]\n",
      " [1 1 1]\n",
      " [1 1 1]]\n",
      "\n",
      "Y has dimensions: (3, 3)\n",
      "Y is an object of type: <class 'numpy.ndarray'>\n",
      "The elements in Y are of type: int32\n",
      "\n",
      "Z = \n",
      " [[1 1 1]\n",
      " [1 1 1]\n",
      " [1 1 1]]\n",
      "\n",
      "Z has dimensions: (3, 4)\n",
      "Z is an object of type: <class 'numpy.ndarray'>\n",
      "The elements in Z are of type: int32\n"
     ]
    }
   ],
   "source": [
    "# We create a 3 x 4 ndarray full of zeros. \n",
    "X = np.zeros((3,4))\n",
    "\n",
    "# We print X\n",
    "print()\n",
    "print('X = \\n', X)\n",
    "print()\n",
    "\n",
    "# We print information about X\n",
    "print('X has dimensions:', X.shape)\n",
    "print('X is an object of type:', type(X))\n",
    "print('The elements in X are of type:', X.dtype)\n",
    "\n",
    "# We create a 3 x 3 ndarray full of ones. \n",
    "Y = np.ones((3,3), dtype=int)\n",
    "# We print X\n",
    "print()\n",
    "print('Y = \\n', Y)\n",
    "print()\n",
    "\n",
    "# We print information about X\n",
    "print('Y has dimensions:', Y.shape)\n",
    "print('Y is an object of type:', type(Y))\n",
    "print('The elements in Y are of type:', Y.dtype)\n",
    "\n",
    "#we create a full array\n",
    "Z = np.full((3,4),5)\n",
    "\n",
    "# We print Z\n",
    "print()\n",
    "print('Z = \\n', Y)\n",
    "print()\n",
    "\n",
    "# We print information about Z\n",
    "print('Z has dimensions:', Z.shape)\n",
    "print('Z is an object of type:', type(Z))\n",
    "print('The elements in Z are of type:', Z.dtype)\n"
   ]
  },
  {
   "cell_type": "markdown",
   "metadata": {},
   "source": [
    "**Identity Matrix**\n",
    "\n",
    "- As you will learn later, a fundamental array in Linear Algebra is the *Identity Matrix*.\n",
    "- An Identity matrix is a square matrix that has only 1s in its main diagonal and zeros everywhere else. \n",
    "- The function np.eye(N) creates a square N x N ndarray corresponding to the Identity matrix. \n",
    "Since all Identity Matrices are square, the np.eye() function only takes a single integer as an argument"
   ]
  },
  {
   "cell_type": "code",
   "execution_count": 10,
   "metadata": {},
   "outputs": [
    {
     "name": "stdout",
     "output_type": "stream",
     "text": [
      "\n",
      "X = \n",
      " [[1. 0. 0. 0. 0.]\n",
      " [0. 1. 0. 0. 0.]\n",
      " [0. 0. 1. 0. 0.]\n",
      " [0. 0. 0. 1. 0.]\n",
      " [0. 0. 0. 0. 1.]]\n",
      "\n",
      "X has dimensions: (5, 5)\n",
      "X is an object of type: <class 'numpy.ndarray'>\n",
      "The elements in X are of type: float64\n"
     ]
    }
   ],
   "source": [
    "#creating a idenity matrix\n",
    "X = np.eye(5)\n",
    "\n",
    "# We print X\n",
    "print()\n",
    "print('X = \\n', X)\n",
    "print()\n",
    "\n",
    "# We print information about X\n",
    "print('X has dimensions:', X.shape)\n",
    "print('X is an object of type:', type(X))\n",
    "print('The elements in X are of type:', X.dtype)  "
   ]
  },
  {
   "cell_type": "markdown",
   "metadata": {},
   "source": [
    "**Diagonal Matrix**\n"
   ]
  },
  {
   "cell_type": "code",
   "execution_count": 11,
   "metadata": {},
   "outputs": [
    {
     "name": "stdout",
     "output_type": "stream",
     "text": [
      "[[10  0  0  0]\n",
      " [ 0 15  0  0]\n",
      " [ 0  0 20  0]\n",
      " [ 0  0  0 25]]\n"
     ]
    }
   ],
   "source": [
    "y_diag = np.diag([10,15,20,25])\n",
    "print(y_diag)\n"
   ]
  },
  {
   "cell_type": "markdown",
   "metadata": {},
   "source": [
    "**Arange**\n",
    "\n",
    "- NumPy also allows you to create ndarrays that have evenly spaced values within a given interval. \n",
    "- NumPy's np.arange() function is very versatile and can be used with either one, two, or three arguments\n",
    "- np.arange(N) i.e *np.arange(5)* - will create a rank 1 ndarray with consecutive integers between 0 and N - 1\n",
    "- np.arange(start,stop) i.e *np.arange(1,10)* - will create a rank 1 ndarray with evenly spaced values within the half-open interval (start, stop). This means the evenly spaced numbers will **include start but exclude stop.**\n",
    "- np.arrange(start,stop,step) i.e - np.arange(1,10,2) - will create a rank 1 ndarray with evenly spaced values within the half-open interval (start, stop) with *step* being the distance between two adjacent values"
   ]
  },
  {
   "cell_type": "code",
   "execution_count": 13,
   "metadata": {},
   "outputs": [
    {
     "name": "stdout",
     "output_type": "stream",
     "text": [
      "[0 1 2 3 4 5 6 7 8 9]\n",
      "[1 2 3 4 5 6 7 8 9]\n",
      "[1 3 5 7 9]\n"
     ]
    }
   ],
   "source": [
    "x= np.arange(10)\n",
    "print(x)\n",
    "\n",
    "x1 = np.arange(1,10)\n",
    "print(x1)\n",
    "\n",
    "x2 = np.arange(1,10,2)\n",
    "print(x2)"
   ]
  },
  {
   "cell_type": "markdown",
   "metadata": {},
   "source": [
    "**Linspace**\n",
    "\n",
    "Even though the np.arange() function allows for non-integer steps, such as 0.3, **the output is usually inconsistent, due to the finite floating point precision**. For this reason, in the cases where non-integer steps are required, it is usually better to use the function np.linspace()\n",
    "\n",
    " **np.linspace(start, stop, N)** function returns N evenly spaced numbers over the closed interval (start, stop). This means that both the start and thestop values are included"
   ]
  },
  {
   "cell_type": "code",
   "execution_count": 3,
   "metadata": {},
   "outputs": [
    {
     "name": "stdout",
     "output_type": "stream",
     "text": [
      "\n",
      "X = \n",
      " [ 0.          2.77777778  5.55555556  8.33333333 11.11111111 13.88888889\n",
      " 16.66666667 19.44444444 22.22222222 25.        ]\n",
      "\n",
      "X has dimensions: (10,)\n",
      "X is an object of type: <class 'numpy.ndarray'>\n",
      "The elements in X are of type: float64\n"
     ]
    }
   ],
   "source": [
    "# We create a rank 1 ndarray that has 10 integers evenly spaced between 0 and 25\n",
    "X = np.linspace (0,25,10)\n",
    "\n",
    "# We print X\n",
    "print()\n",
    "print('X = \\n', X)\n",
    "print()\n",
    "\n",
    "# We print information about X\n",
    "print('X has dimensions:', X.shape)\n",
    "print('X is an object of type:', type(X))\n",
    "print('The elements in X are of type:', X.dtype)  \n",
    "\n"
   ]
  },
  {
   "cell_type": "markdown",
   "metadata": {},
   "source": [
    " - we can see 10 eventualy intervaled numbers between 0 to 25.\n",
    " - if need to exclude the last digit, we can by setting the keyword **endpoint = False**"
   ]
  },
  {
   "cell_type": "markdown",
   "metadata": {},
   "source": [
    "**Reshape**\n",
    "\n",
    "- np.reshape(ndarray, new_shape)\n",
    "- Reshape used to convert the 1D to N-D array. \n",
    "- The elements in the 1D array shoud match the dimension we input. for example - 1D array with 10 elements can be reshaped as 2D with 5 x 2 or 2 x5 but not 3x4\n"
   ]
  },
  {
   "cell_type": "code",
   "execution_count": 7,
   "metadata": {},
   "outputs": [
    {
     "name": "stdout",
     "output_type": "stream",
     "text": [
      "original X [ 0  1  2  3  4  5  6  7  8  9 10 11 12 13 14 15 16 17 18 19 20 21 22 23\n",
      " 24 25 26 27 28 29 30 31 32 33 34 35 36 37 38 39 40 41 42 43 44 45 46 47\n",
      " 48 49]\n",
      "shape of x (50,)\n",
      "Reshaped X [[ 0  1]\n",
      " [ 2  3]\n",
      " [ 4  5]\n",
      " [ 6  7]\n",
      " [ 8  9]\n",
      " [10 11]\n",
      " [12 13]\n",
      " [14 15]\n",
      " [16 17]\n",
      " [18 19]\n",
      " [20 21]\n",
      " [22 23]\n",
      " [24 25]\n",
      " [26 27]\n",
      " [28 29]\n",
      " [30 31]\n",
      " [32 33]\n",
      " [34 35]\n",
      " [36 37]\n",
      " [38 39]\n",
      " [40 41]\n",
      " [42 43]\n",
      " [44 45]\n",
      " [46 47]\n",
      " [48 49]]\n",
      "shape of new x (25, 2)\n"
     ]
    }
   ],
   "source": [
    "x = np.arange(50)\n",
    "print (\"original X\", x)\n",
    "print (\"shape of x\", x.shape)\n",
    "\n",
    "x=x.reshape(25,2)\n",
    "print (\"Reshaped X\", x)\n",
    "print (\"shape of new x\", x.shape)"
   ]
  },
  {
   "cell_type": "code",
   "execution_count": 8,
   "metadata": {},
   "outputs": [
    {
     "name": "stdout",
     "output_type": "stream",
     "text": [
      "\n",
      "Y = \n",
      " [[ 0  1  2  3  4]\n",
      " [ 5  6  7  8  9]\n",
      " [10 11 12 13 14]\n",
      " [15 16 17 18 19]]\n",
      "\n",
      "Y has dimensions: (4, 5)\n",
      "Y is an object of type: <class 'numpy.ndarray'>\n",
      "The elements in Y are of type: int32\n",
      "\n",
      "X = \n",
      " [[ 0.  5.]\n",
      " [10. 15.]\n",
      " [20. 25.]\n",
      " [30. 35.]\n",
      " [40. 45.]]\n",
      "\n",
      "X has dimensions: (5, 2)\n",
      "X is an object of type: <class 'numpy.ndarray'>\n",
      "The elements in X are of type: float64\n"
     ]
    }
   ],
   "source": [
    "# We create a a rank 1 ndarray with sequential integers from 0 to 19 and\n",
    "# reshape it to a 4 x 5 array \n",
    "Y = np.arange(20).reshape(4, 5)\n",
    "\n",
    "# We print Y\n",
    "print()\n",
    "print('Y = \\n', Y)\n",
    "print()\n",
    "\n",
    "# We print information about Y\n",
    "print('Y has dimensions:', Y.shape)\n",
    "print('Y is an object of type:', type(Y))\n",
    "print('The elements in Y are of type:', Y.dtype) \n",
    "\n",
    "# We create a rank 1 ndarray with 10 integers evenly spaced between 0 and 50,\n",
    "# with 50 excluded. We then reshape it to a 5 x 2 ndarray\n",
    "X = np.linspace(0,50,10, endpoint=False).reshape(5,2)\n",
    "\n",
    "# We print X\n",
    "print()\n",
    "print('X = \\n', X)\n",
    "print()\n",
    "\n",
    "# We print information about X\n",
    "print('X has dimensions:', X.shape)\n",
    "print('X is an object of type:', type(X))\n",
    "print('The elements in X are of type:', X.dtype)"
   ]
  },
  {
   "cell_type": "markdown",
   "metadata": {},
   "source": [
    "**Random Nd Arrays**\n",
    "\n",
    "- **np.random.random(shape)** function to create an ndarray of the given shape with random floats in the half-open interval (0.0, 1.0)\n",
    "- **np.random.randint(start, stop, size = shape)** creates an ndarray of the given shape with random integers in the half-open interval (start, stop)\n",
    "- **np.random.rand(shape)** will create an array of the given shape and populate it with random samples from a uniform distribution over (0, 1)\n",
    "- **np.random.normal(mean, standard deviation, size=shape)**\n",
    "In some cases, you may need to create ndarrays with random numbers that satisfy certain statistical properties for example, creates an ndarray with the given shape that contains random numbers picked from a normal (Gaussian) distribution with the given mean and standard deviation. \n",
    "- **np.random.randn(N)** will generates a matrix filled with random floats sampled from a univariate “normal” (Gaussian) distribution of mean 0 and variance 1."
   ]
  },
  {
   "cell_type": "code",
   "execution_count": 10,
   "metadata": {},
   "outputs": [
    {
     "name": "stdout",
     "output_type": "stream",
     "text": [
      "\n",
      "X = \n",
      " [[0.95399281 0.01225931 0.31903071]\n",
      " [0.98280078 0.30819832 0.38684034]\n",
      " [0.36616898 0.3859594  0.35724233]]\n",
      "\n",
      "X has dimensions: (3, 3)\n",
      "X is an object of type: <class 'numpy.ndarray'>\n",
      "The elements in x are of type: float64\n"
     ]
    }
   ],
   "source": [
    "#np.random.random(shape)\n",
    "X = np.random.random((3,3))\n",
    "# We print X\n",
    "print()\n",
    "print('X = \\n', X)\n",
    "print()\n",
    "\n",
    "# We print information about X\n",
    "print('X has dimensions:', X.shape)\n",
    "print('X is an object of type:', type(X))\n",
    "print('The elements in x are of type:', X.dtype)"
   ]
  },
  {
   "cell_type": "code",
   "execution_count": 11,
   "metadata": {},
   "outputs": [
    {
     "name": "stdout",
     "output_type": "stream",
     "text": [
      "\n",
      "X = \n",
      " [[ 4 12]\n",
      " [10 11]\n",
      " [11 13]]\n",
      "\n",
      "X has dimensions: (3, 2)\n",
      "X is an object of type: <class 'numpy.ndarray'>\n",
      "The elements in x are of type: int32\n"
     ]
    }
   ],
   "source": [
    "# We create a 3 x 2 ndarray with random integers in the half-open interval [4, 15).\n",
    "X = np.random.randint(4,15,(3,2))\n",
    "\n",
    "# We print X\n",
    "print()\n",
    "print('X = \\n', X)\n",
    "print()\n",
    "\n",
    "# We print information about X\n",
    "print('X has dimensions:', X.shape)\n",
    "print('X is an object of type:', type(X))\n",
    "print('The elements in x are of type:', X.dtype)"
   ]
  },
  {
   "cell_type": "code",
   "execution_count": 13,
   "metadata": {},
   "outputs": [
    {
     "name": "stdout",
     "output_type": "stream",
     "text": [
      "\n",
      "X = \n",
      " [[ 0.02694705  0.04947832 -0.03796749 ...  0.02729805  0.05198602\n",
      "  -0.17310154]\n",
      " [ 0.05205792  0.02349479  0.26439026 ... -0.01095012  0.16664777\n",
      "  -0.11486625]\n",
      " [-0.02468997  0.06961028 -0.03017137 ... -0.06069926 -0.0283256\n",
      "   0.0976365 ]\n",
      " ...\n",
      " [ 0.12505832 -0.02593088  0.11265138 ...  0.21870188 -0.08361976\n",
      "  -0.18012141]\n",
      " [ 0.11465266  0.04702692  0.03490346 ... -0.01316394  0.0086452\n",
      "   0.11324408]\n",
      " [-0.01114407 -0.00139915 -0.00291159 ...  0.11343554  0.05561915\n",
      "  -0.01782706]]\n",
      "\n",
      "X has dimensions: (100, 100)\n",
      "X is an object of type: <class 'numpy.ndarray'>\n",
      "The elements in X are of type: float64\n",
      "The elements in X have a mean of: 0.0016703335992551331\n",
      "The maximum value in X is: 0.40278695654831814\n",
      "The minimum value in X is: -0.37163696787721756\n",
      "X has 4923 negative numbers\n",
      "X has 5077 positive numbers\n"
     ]
    }
   ],
   "source": [
    "#We create a 100 x 100 ndarray of random floats drawn from normal (Gaussian) distribution\n",
    "# with a mean of zero and a standard deviation of 0.1.\n",
    "X = np.random.normal(0,0.1,(100,100))\n",
    "# We print X\n",
    "print()\n",
    "print('X = \\n', X)\n",
    "print()\n",
    "\n",
    "# We print information about X\n",
    "print('X has dimensions:', X.shape)\n",
    "print('X is an object of type:', type(X))\n",
    "print('The elements in X are of type:', X.dtype)\n",
    "print('The elements in X have a mean of:', X.mean())\n",
    "print('The maximum value in X is:', X.max())\n",
    "print('The minimum value in X is:', X.min())\n",
    "print('X has', (X < 0).sum(), 'negative numbers')\n",
    "print('X has', (X > 0).sum(), 'positive numbers')"
   ]
  },
  {
   "cell_type": "code",
   "execution_count": 14,
   "metadata": {},
   "outputs": [
    {
     "name": "stdout",
     "output_type": "stream",
     "text": [
      "\n",
      "X = \n",
      " [[0.15434716 0.21688783 0.05244779]\n",
      " [0.83839356 0.56017946 0.79506465]\n",
      " [0.04089127 0.49589741 0.92745817]]\n",
      "\n",
      "X has dimensions: (3, 3)\n",
      "X is an object of type: <class 'numpy.ndarray'>\n",
      "The elements in x are of type: float64\n"
     ]
    }
   ],
   "source": [
    "#np.random.rand(shape)\n",
    "X = np.random.rand(3,3)\n",
    "# We print X\n",
    "print()\n",
    "print('X = \\n', X)\n",
    "print()\n",
    "\n",
    "# We print information about X\n",
    "print('X has dimensions:', X.shape)\n",
    "print('X is an object of type:', type(X))\n",
    "print('The elements in x are of type:', X.dtype)"
   ]
  },
  {
   "cell_type": "code",
   "execution_count": 15,
   "metadata": {},
   "outputs": [
    {
     "name": "stdout",
     "output_type": "stream",
     "text": [
      "\n",
      "X = \n",
      " [-0.46580439 -0.51769515 -1.36502286  0.12805296 -0.11770055  1.02629479\n",
      "  0.41471195 -0.6559395  -1.30419416  1.04808341]\n",
      "\n",
      "X has dimensions: (10,)\n",
      "X is an object of type: <class 'numpy.ndarray'>\n",
      "The elements in X are of type: float64\n",
      "The elements in X have a mean of: -0.1809213508641976\n",
      "The maximum value in X is: 1.0480834144870415\n",
      "The minimum value in X is: -1.3650228603895365\n",
      "X has 6 negative numbers\n",
      "X has 4 positive numbers\n"
     ]
    }
   ],
   "source": [
    "#np.random.randn(N)\n",
    "X = np.random.randn(10)\n",
    "# We print X\n",
    "print()\n",
    "print('X = \\n', X)\n",
    "print()\n",
    "\n",
    "# We print information about X\n",
    "print('X has dimensions:', X.shape)\n",
    "print('X is an object of type:', type(X))\n",
    "print('The elements in X are of type:', X.dtype)\n",
    "print('The elements in X have a mean of:', X.mean())\n",
    "print('The maximum value in X is:', X.max())\n",
    "print('The minimum value in X is:', X.min())\n",
    "print('X has', (X < 0).sum(), 'negative numbers')\n",
    "print('X has', (X > 0).sum(), 'positive numbers')"
   ]
  }
 ],
 "metadata": {
  "kernelspec": {
   "display_name": "Python [default]",
   "language": "python",
   "name": "python3"
  },
  "language_info": {
   "codemirror_mode": {
    "name": "ipython",
    "version": 3
   },
   "file_extension": ".py",
   "mimetype": "text/x-python",
   "name": "python",
   "nbconvert_exporter": "python",
   "pygments_lexer": "ipython3",
   "version": "3.6.6"
  }
 },
 "nbformat": 4,
 "nbformat_minor": 2
}
